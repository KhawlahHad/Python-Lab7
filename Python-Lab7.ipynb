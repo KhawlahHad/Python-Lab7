{
 "cells": [
  {
   "cell_type": "code",
   "execution_count": 7,
   "id": "b9722dc2-82d5-4ac5-bb0a-830bbb30519f",
   "metadata": {},
   "outputs": [
    {
     "name": "stdin",
     "output_type": "stream",
     "text": [
      "Enter phone number:  7777777777\n"
     ]
    },
    {
     "name": "stdout",
     "output_type": "stream",
     "text": [
      "Layla\n"
     ]
    }
   ],
   "source": [
    "phoneBookDic = {\n",
    "    \"Amal\": \"1111111111\",\n",
    "    \"Mohammed\": \"2222222222\",\n",
    "    \"Khadijah\": \"3333333333\",\n",
    "    \"Abdullah\": \"4444444444\",\n",
    "    \"Rawan\": \"5555555555\",\n",
    "    \"Faisal\": \"6666666666\", \n",
    "    \"Layla\": \"7777777777\"\n",
    "}\n",
    "\n",
    "phoneNumber = input(\"Enter phone number: \")\n",
    "\n",
    "try:\n",
    "    isValid = int(phoneNumber)\n",
    "\n",
    "    if len(phoneNumber) != 10 :\n",
    "        print(\"This is invalid number\")\n",
    "    \n",
    "    else:\n",
    "        found = False\n",
    "        for name, number in phoneBookDic.items():\n",
    "            if number == phoneNumber:\n",
    "                print(name)\n",
    "                found = True\n",
    "    \n",
    "        if not found :\n",
    "            print(\"Sorry, the number is not found\")\n",
    "\n",
    "except:\n",
    "    print(\"This is invalid number\")\n",
    "\n"
   ]
  },
  {
   "cell_type": "code",
   "execution_count": null,
   "id": "b504618d-1177-4c18-ad06-5e517c22f526",
   "metadata": {},
   "outputs": [],
   "source": []
  }
 ],
 "metadata": {
  "kernelspec": {
   "display_name": "Python 3 (ipykernel)",
   "language": "python",
   "name": "python3"
  },
  "language_info": {
   "codemirror_mode": {
    "name": "ipython",
    "version": 3
   },
   "file_extension": ".py",
   "mimetype": "text/x-python",
   "name": "python",
   "nbconvert_exporter": "python",
   "pygments_lexer": "ipython3",
   "version": "3.10.11"
  }
 },
 "nbformat": 4,
 "nbformat_minor": 5
}
